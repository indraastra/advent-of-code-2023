{
 "cells": [
  {
   "cell_type": "code",
   "execution_count": 47,
   "metadata": {},
   "outputs": [],
   "source": [
    "import doctest\n",
    "import functools\n",
    "import operator\n"
   ]
  },
  {
   "cell_type": "code",
   "execution_count": 2,
   "metadata": {},
   "outputs": [],
   "source": [
    "test_input_1 = \"\"\"Game 1: 3 blue, 4 red; 1 red, 2 green, 6 blue; 2 green\n",
    "Game 2: 1 blue, 2 green; 3 green, 4 blue, 1 red; 1 green, 1 blue\n",
    "Game 3: 8 green, 6 blue, 20 red; 5 blue, 4 red, 13 green; 5 green, 1 red\n",
    "Game 4: 1 green, 3 red, 6 blue; 3 green, 6 red; 3 green, 15 blue, 14 red\n",
    "Game 5: 6 red, 1 blue, 3 green; 2 blue, 1 red, 2 green\"\"\"\n"
   ]
  },
  {
   "cell_type": "code",
   "execution_count": 65,
   "metadata": {},
   "outputs": [],
   "source": [
    "def parse_round(r: str):\n",
    "  \"\"\"\n",
    "  >>> sorted(parse_round('3 blue, 4 red').items())\n",
    "  [('blue', 3), ('red', 4)]\n",
    "  >>> sorted(parse_round('1 x, 2 y, 10 z').items())\n",
    "  [('x', 1), ('y', 2), ('z', 10)]\n",
    "  \"\"\"\n",
    "  cubes = [c.split(' ') for c in r.split(', ')]\n",
    "  return {color: int(n) for (n, color) in cubes}\n",
    "\n",
    "def parse_game(g: str):\n",
    "  \"\"\"\n",
    "  >>> num, rounds = parse_game('Game 2: 1 blue, 2 green; 3 green, 4 blue, 1 red; 1 green, 1 blue')\n",
    "  >>> num\n",
    "  2\n",
    "  >>> [sorted(r.items()) for r in rounds]\n",
    "  [[('blue', 1), ('green', 2)], [('blue', 4), ('green', 3), ('red', 1)], [('blue', 1), ('green', 1)]]\n",
    "  \"\"\"\n",
    "  game, rounds = g.split(': ')\n",
    "  rounds = [parse_round(r) for r in rounds.split('; ')]\n",
    "  return int(game[5:]), rounds\n",
    "\n",
    "def parse_games(s: str):\n",
    "  return dict(parse_game(l) for l in s.splitlines())\n",
    "\n",
    "def is_possible_round(round, bag):\n",
    "  r\"\"\"\n",
    "  >>> is_possible_round({'x': 5}, {'x': 4})\n",
    "  False\n",
    "  >>> is_possible_round({'x': 5, 'y': 1}, {'x': 7, 'y': 2})\n",
    "  True\n",
    "  >>> is_possible_round({'x': 5, 'y': 5}, {'x': 7, 'y': 2})\n",
    "  False\n",
    "  \"\"\"\n",
    "  return all(bag.get(color, 0) >= count for color, count in round.items())\n",
    "\n",
    "def is_possible_game(rounds, bag):\n",
    "  r\"\"\"\n",
    "  >>> is_possible_game([{'x': 5}, {'x': 5, 'y': 1}, {'y': 1}], {'x': 5, 'y': 1})\n",
    "  True\n",
    "  >>> is_possible_game([{'x': 1}, {'x': 3, 'y': 3}], {'x': 5, 'y': 1})\n",
    "  False\n",
    "  \"\"\"\n",
    "  return all(is_possible_round(r, bag) for r in rounds)\n",
    "\n",
    "def possible_games(gs, bag):\n",
    "  for num, rounds in gs.items():\n",
    "    if is_possible_game(rounds, bag):\n",
    "      yield num, rounds\n",
    "\n",
    "def solution_1(gs):\n",
    "  bag = {'red': 12, 'green': 13, 'blue': 14}\n",
    "  return sum(num for (num, _) in possible_games(gs, bag))\n",
    "\n",
    "# Part 2.\n",
    "\n",
    "def acc_max_value(d1, d2):\n",
    "  return {k: max(d1.get(k, 0), d2.get(k, 0)) for k in d1.keys() | d2.keys()}\n",
    "\n",
    "def min_cubes(rounds):\n",
    "  \"\"\"\n",
    "  >>> _, g = parse_game(\"Game 1: 3 blue, 4 red; 1 red, 2 green, 6 blue; 2 green\")\n",
    "  >>> sorted(min_cubes(g).items())\n",
    "  [('blue', 6), ('green', 2), ('red', 4)]\n",
    "  >>> _, g = parse_game(\"Game 3: 8 green, 6 blue, 20 red; 5 blue, 4 red, 13 green; 5 green, 1 red\")\n",
    "  >>> sorted(min_cubes(g).items())\n",
    "  [('blue', 6), ('green', 13), ('red', 20)]\n",
    "  \"\"\"\n",
    "  return functools.reduce(acc_max_value, rounds)\n",
    "\n",
    "def power(cubes):\n",
    "  \"\"\"\n",
    "  >>> power({'blue': 6, 'green': 13, 'red': 20})\n",
    "  1560\n",
    "  \"\"\"\n",
    "  return functools.reduce(operator.mul, cubes.values(), 1)\n",
    "\n",
    "def solution_2(games):\n",
    "  return sum(power(min_cubes(g)) for g in games.values())\n"
   ]
  },
  {
   "cell_type": "code",
   "execution_count": 66,
   "metadata": {},
   "outputs": [
    {
     "name": "stdout",
     "output_type": "stream",
     "text": [
      "Trying:\n",
      "    is_possible_game([{'x': 5}, {'x': 5, 'y': 1}, {'y': 1}], {'x': 5, 'y': 1})\n",
      "Expecting:\n",
      "    True\n",
      "ok\n",
      "Trying:\n",
      "    is_possible_game([{'x': 1}, {'x': 3, 'y': 3}], {'x': 5, 'y': 1})\n",
      "Expecting:\n",
      "    False\n",
      "ok\n",
      "Trying:\n",
      "    is_possible_round({'x': 5}, {'x': 4})\n",
      "Expecting:\n",
      "    False\n",
      "ok\n",
      "Trying:\n",
      "    is_possible_round({'x': 5, 'y': 1}, {'x': 7, 'y': 2})\n",
      "Expecting:\n",
      "    True\n",
      "ok\n",
      "Trying:\n",
      "    is_possible_round({'x': 5, 'y': 5}, {'x': 7, 'y': 2})\n",
      "Expecting:\n",
      "    False\n",
      "ok\n",
      "Trying:\n",
      "    _, g = parse_game(\"Game 1: 3 blue, 4 red; 1 red, 2 green, 6 blue; 2 green\")\n",
      "Expecting nothing\n",
      "ok\n",
      "Trying:\n",
      "    sorted(min_cubes(g).items())\n",
      "Expecting:\n",
      "    [('blue', 6), ('green', 2), ('red', 4)]\n",
      "ok\n",
      "Trying:\n",
      "    _, g = parse_game(\"Game 3: 8 green, 6 blue, 20 red; 5 blue, 4 red, 13 green; 5 green, 1 red\")\n",
      "Expecting nothing\n",
      "ok\n",
      "Trying:\n",
      "    sorted(min_cubes(g).items())\n",
      "Expecting:\n",
      "    [('blue', 6), ('green', 13), ('red', 20)]\n",
      "ok\n",
      "Trying:\n",
      "    num, rounds = parse_game('Game 2: 1 blue, 2 green; 3 green, 4 blue, 1 red; 1 green, 1 blue')\n",
      "Expecting nothing\n",
      "ok\n",
      "Trying:\n",
      "    num\n",
      "Expecting:\n",
      "    2\n",
      "ok\n",
      "Trying:\n",
      "    [sorted(r.items()) for r in rounds]\n",
      "Expecting:\n",
      "    [[('blue', 1), ('green', 2)], [('blue', 4), ('green', 3), ('red', 1)], [('blue', 1), ('green', 1)]]\n",
      "ok\n",
      "Trying:\n",
      "    sorted(parse_round('3 blue, 4 red').items())\n",
      "Expecting:\n",
      "    [('blue', 3), ('red', 4)]\n",
      "ok\n",
      "Trying:\n",
      "    sorted(parse_round('1 x, 2 y, 10 z').items())\n",
      "Expecting:\n",
      "    [('x', 1), ('y', 2), ('z', 10)]\n",
      "ok\n",
      "Trying:\n",
      "    power({'blue': 6, 'green': 13, 'red': 20})\n",
      "Expecting:\n",
      "    1560\n",
      "ok\n",
      "6 items had no tests:\n",
      "    __main__\n",
      "    __main__.acc_max_value\n",
      "    __main__.parse_games\n",
      "    __main__.possible_games\n",
      "    __main__.solution_1\n",
      "    __main__.solution_2\n",
      "6 items passed all tests:\n",
      "   2 tests in __main__.is_possible_game\n",
      "   3 tests in __main__.is_possible_round\n",
      "   4 tests in __main__.min_cubes\n",
      "   3 tests in __main__.parse_game\n",
      "   2 tests in __main__.parse_round\n",
      "   1 tests in __main__.power\n",
      "15 tests in 12 items.\n",
      "15 passed and 0 failed.\n",
      "Test passed.\n"
     ]
    },
    {
     "data": {
      "text/plain": [
       "TestResults(failed=0, attempted=15)"
      ]
     },
     "execution_count": 66,
     "metadata": {},
     "output_type": "execute_result"
    }
   ],
   "source": [
    "doctest.testmod(verbose=True)\n"
   ]
  },
  {
   "cell_type": "code",
   "execution_count": 63,
   "metadata": {},
   "outputs": [
    {
     "name": "stdout",
     "output_type": "stream",
     "text": [
      "8\n",
      "2286\n"
     ]
    }
   ],
   "source": [
    "test_games = parse_games(test_input_1)\n",
    "print(solution_1(test_games))\n",
    "print(solution_2(test_games))\n"
   ]
  },
  {
   "cell_type": "code",
   "execution_count": 64,
   "metadata": {},
   "outputs": [
    {
     "name": "stdout",
     "output_type": "stream",
     "text": [
      "Part 1:  1734\n",
      "Part 2:  70387\n"
     ]
    }
   ],
   "source": [
    "# Final answers\n",
    "with open('../data/day02.txt') as f:\n",
    "    games = parse_games(f.read().strip())\n",
    "    print('Part 1: ', solution_1(games))\n",
    "    print('Part 2: ', solution_2(games))\n"
   ]
  }
 ],
 "metadata": {
  "kernelspec": {
   "display_name": ".venv",
   "language": "python",
   "name": "python3"
  },
  "language_info": {
   "codemirror_mode": {
    "name": "ipython",
    "version": 3
   },
   "file_extension": ".py",
   "mimetype": "text/x-python",
   "name": "python",
   "nbconvert_exporter": "python",
   "pygments_lexer": "ipython3",
   "version": "3.9.5"
  }
 },
 "nbformat": 4,
 "nbformat_minor": 2
}
