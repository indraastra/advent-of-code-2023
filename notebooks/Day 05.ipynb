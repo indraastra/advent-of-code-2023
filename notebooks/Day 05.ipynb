{
 "cells": [
  {
   "cell_type": "code",
   "execution_count": 118,
   "metadata": {},
   "outputs": [],
   "source": [
    "from __future__ import annotations\n",
    "\n",
    "from bisect import bisect\n",
    "from dataclasses import dataclass, field\n",
    "import doctest\n",
    "from functools import reduce\n",
    "\n",
    "from utilities import extract_ints\n"
   ]
  },
  {
   "cell_type": "code",
   "execution_count": 142,
   "metadata": {},
   "outputs": [],
   "source": [
    "@dataclass(frozen=True)\n",
    "class Range:\n",
    "  dst: int\n",
    "  src: int\n",
    "  length: int\n",
    "\n",
    "  @classmethod\n",
    "  def parse_from(cls, l: str) -> 'Range':\n",
    "    \"\"\"\n",
    "    >>> Range.parse_from('50 98 2')\n",
    "    Range(dst=50, src=98, length=2)\n",
    "    \"\"\"\n",
    "    src, dst, length = [int(c) for c in l.strip().split()]\n",
    "    return Range(src, dst, length)\n",
    "  \n",
    "  def map(self, src: int) -> int:\n",
    "    \"\"\"\n",
    "    >>> r = Range(dst=50, src=98, length=2)\n",
    "    >>> r.map(98)\n",
    "    50\n",
    "    >>> r.map(99)\n",
    "    51\n",
    "    >>> r.map(52)\n",
    "    52\n",
    "    >>> r.map(8)\n",
    "    8\n",
    "    \"\"\"\n",
    "    if self.contains(src):\n",
    "      return self.dst + (src - self.src)\n",
    "    else:\n",
    "      return src\n",
    "\n",
    "  def rev(self) -> 'Range':\n",
    "    return Range(src=self.dst, dst=self.src, length=self.length)\n",
    "\n",
    "  def contains(self, src: int) -> bool:\n",
    "    return self.src <= src < (self.src + self.length)\n",
    "\n",
    "\n",
    "@dataclass\n",
    "class RangeMap:\n",
    "  ranges: list[Range]\n",
    "  srcs: list[int] = field(init=False)\n",
    "\n",
    "  def __post_init__(self):\n",
    "    self.ranges.sort(key=lambda r: r.src)\n",
    "    self.srcs = [r.src for r in self.ranges]\n",
    "\n",
    "  @classmethod\n",
    "  def parse_from(cls, txt: str) -> RangeMap:\n",
    "    \"\"\"\n",
    "    >>> RangeMap.parse_from('soil-to-seed map:\\\\n50 98 2\\\\n52 50 48')\n",
    "    RangeMap(ranges=[Range(dst=52, src=50, length=48), Range(dst=50, src=98, length=2)], srcs=[50, 98])\n",
    "    \"\"\"\n",
    "    return RangeMap(ranges=[Range.parse_from(l) for l in txt.strip().splitlines()[1:]])\n",
    "    \n",
    "  def map(self, src: int) -> int:\n",
    "    \"\"\"\n",
    "    >>> rm = RangeMap([Range(dst=50, src=98, length=2), Range(dst=52, src=50, length=48)])\n",
    "    >>> rm.map(79)\n",
    "    81\n",
    "    >>> rm.map(14)\n",
    "    14\n",
    "    >>> rm.map(55)\n",
    "    57\n",
    "    >>> rm.map(50)\n",
    "    52\n",
    "    >>> rm = RangeMap([Range(0, 15, 37), Range(37, 52, 2), Range(39, 0, 15)])\n",
    "    >>> rm.map(14)\n",
    "    53\n",
    "    >>> rm.map(81)\n",
    "    81\n",
    "    \"\"\"\n",
    "    if (i := bisect(self.srcs, src)):\n",
    "      return self.ranges[i-1].map(src)\n",
    "    else:\n",
    "      return src\n",
    "\n",
    "  def rev(self) -> 'RangeMap':\n",
    "    return RangeMap([r.rev() for r in self.ranges])\n",
    "    \n",
    "  def contains(self, src: int) -> bool:\n",
    "    return any(r.contains(src) for r in self.ranges)\n",
    "    \n",
    "\n",
    "def parse_puzzle(txt: str):\n",
    "  sections = txt.split('\\n\\n')\n",
    "  seeds = extract_ints(sections[0])\n",
    "  range_maps = [RangeMap.parse_from(s) for s in sections[1:]]\n",
    "  return seeds, range_maps\n",
    "\n",
    "\n",
    "apply_map = lambda src, rm: rm.map(src)\n",
    "apply_maps = lambda maps, src: reduce(apply_map, maps, src)\n",
    "\n",
    "\n",
    "def solution_1(seeds: list[int], range_maps: list[RangeMap]) -> int:\n",
    "  return min(apply_maps(range_maps, s) for s in seeds)\n",
    "\n",
    "\n",
    "def solution_2(seeds: list[int], range_maps: list[RangeMap]) -> int:\n",
    "  seed_map = RangeMap([Range(seeds[i], seeds[i], seeds[i+1])\n",
    "                       for i in range(0, len(seeds), 2)])\n",
    "  rev_range_maps = [rm.rev() for rm in range_maps[::-1]]\n",
    "  loc = 0\n",
    "  while True:\n",
    "    seed = reduce(apply_map, rev_range_maps, loc)\n",
    "    if seed_map.contains(seed):\n",
    "      return loc\n",
    "    loc += 1\n"
   ]
  },
  {
   "cell_type": "code",
   "execution_count": 140,
   "metadata": {},
   "outputs": [],
   "source": [
    "test_input = \"\"\"seeds: 79 14 55 13\n",
    "\n",
    "seed-to-soil map:\n",
    "50 98 2\n",
    "52 50 48\n",
    "\n",
    "soil-to-fertilizer map:\n",
    "0 15 37\n",
    "37 52 2\n",
    "39 0 15\n",
    "\n",
    "fertilizer-to-water map:\n",
    "49 53 8\n",
    "0 11 42\n",
    "42 0 7\n",
    "57 7 4\n",
    "\n",
    "water-to-light map:\n",
    "88 18 7\n",
    "18 25 70\n",
    "\n",
    "light-to-temperature map:\n",
    "45 77 23\n",
    "81 45 19\n",
    "68 64 13\n",
    "\n",
    "temperature-to-humidity map:\n",
    "0 69 1\n",
    "1 0 69\n",
    "\n",
    "humidity-to-location map:\n",
    "60 56 37\n",
    "56 93 4\n",
    "\"\"\"\n"
   ]
  },
  {
   "cell_type": "code",
   "execution_count": 143,
   "metadata": {},
   "outputs": [
    {
     "name": "stdout",
     "output_type": "stream",
     "text": [
      "Part 1 35\n",
      "Part 2 46\n"
     ]
    }
   ],
   "source": [
    "seeds, range_maps = parse_puzzle(test_input)\n",
    "print('Part 1', solution_1(seeds, range_maps))\n",
    "print('Part 2', solution_2(seeds, range_maps))\n"
   ]
  },
  {
   "cell_type": "code",
   "execution_count": 98,
   "metadata": {},
   "outputs": [
    {
     "data": {
      "text/plain": [
       "TestResults(failed=0, attempted=15)"
      ]
     },
     "execution_count": 98,
     "metadata": {},
     "output_type": "execute_result"
    }
   ],
   "source": [
    "doctest.testmod(verbose=False, report=True, exclude_empty=True)\n"
   ]
  },
  {
   "cell_type": "code",
   "execution_count": 144,
   "metadata": {},
   "outputs": [
    {
     "name": "stdout",
     "output_type": "stream",
     "text": [
      "Part 1:  340994526\n",
      "Part 2:  52210644\n"
     ]
    }
   ],
   "source": [
    "# Final answers\n",
    "with open('../data/day05.txt') as f:\n",
    "    sections = f.read().split('\\n\\n')\n",
    "    seeds = extract_ints(sections[0])\n",
    "    range_maps = [RangeMap.parse_from(s) for s in sections[1:]]\n",
    "    print('Part 1: ', solution_1(seeds, range_maps))\n",
    "    print('Part 2: ', solution_2(seeds, range_maps))\n"
   ]
  },
  {
   "cell_type": "code",
   "execution_count": null,
   "metadata": {},
   "outputs": [],
   "source": []
  }
 ],
 "metadata": {
  "kernelspec": {
   "display_name": ".venv",
   "language": "python",
   "name": "python3"
  },
  "language_info": {
   "codemirror_mode": {
    "name": "ipython",
    "version": 3
   },
   "file_extension": ".py",
   "mimetype": "text/x-python",
   "name": "python",
   "nbconvert_exporter": "python",
   "pygments_lexer": "ipython3",
   "version": "3.9.5"
  }
 },
 "nbformat": 4,
 "nbformat_minor": 2
}
