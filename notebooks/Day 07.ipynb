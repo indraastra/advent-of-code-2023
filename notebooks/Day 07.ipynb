{
 "cells": [
  {
   "cell_type": "code",
   "execution_count": 18,
   "metadata": {},
   "outputs": [],
   "source": [
    "from __future__ import annotations\n",
    "\n",
    "import doctest\n",
    "from functools import cache\n",
    "from collections import Counter\n"
   ]
  },
  {
   "cell_type": "code",
   "execution_count": 74,
   "metadata": {},
   "outputs": [],
   "source": [
    "CARDS = '23456789TJQKA'\n",
    "JOKER = 'J'\n",
    "\n",
    "\n",
    "def parse_hand(s: str):\n",
    "  \"\"\"\n",
    "  >>> parse_hand(\"AAAAA 52\")\n",
    "  ('AAAAA', 52)\n",
    "  \"\"\"\n",
    "  hand, bid = s.split()\n",
    "  return hand, int(bid)\n",
    "\n",
    "\n",
    "def parse_hands(s: str):\n",
    "  return [parse_hand(h) for h in s.strip().splitlines()]\n",
    "\n",
    "\n",
    "@cache\n",
    "def card_value(c: str, swap_jokers: bool = False) -> int:\n",
    "  return -1 if (c == JOKER and swap_jokers) else CARDS.index(c)\n",
    "\n",
    "\n",
    "def hand_value(hand: str, swap_jokers: bool = False) -> list[int]:\n",
    "  \"\"\"\n",
    "  >>> hand_value('JKKK2') > hand_value('TKKK2')\n",
    "  True\n",
    "  >>> hand_value('JKKK2', True) > hand_value('TKKK2', True)\n",
    "  False\n",
    "  \"\"\"\n",
    "  return [card_value(c, swap_jokers) for c in hand]\n",
    "  \n",
    "\n",
    "def hand_kind(hand: str, swap_jokers: bool = False) -> int:\n",
    "  \"\"\"\n",
    "  >>> hand_kind('QQJQ2') > hand_kind('QJJQ2')\n",
    "  True\n",
    "  >>> hand_kind('QQJQ2', True) > hand_kind('QJJQ2', True)\n",
    "  False\n",
    "  \"\"\"\n",
    "  counts = Counter(hand)\n",
    "  if swap_jokers and len(counts) > 1:\n",
    "    num_jokers = counts.pop(JOKER, 0)\n",
    "    counts[counts.most_common()[0][0]] += num_jokers\n",
    "  return [kv[1] for kv in counts.most_common()]\n",
    "\n",
    "\n",
    "def hand_sort_key(hand: str, swap_jokers: bool = False):\n",
    "  return (hand_kind(hand, swap_jokers), hand_value(hand, swap_jokers))\n",
    "\n",
    "\n",
    "def solution(hands, swap_jokers: bool = False) -> int:\n",
    "  hands.sort(key=lambda hb: hand_sort_key(hb[0], swap_jokers))\n",
    "  return sum(hb[1]*(i+1) for i, hb in enumerate(hands))\n"
   ]
  },
  {
   "cell_type": "code",
   "execution_count": 75,
   "metadata": {},
   "outputs": [
    {
     "name": "stdout",
     "output_type": "stream",
     "text": [
      "6440\n",
      "5905\n"
     ]
    }
   ],
   "source": [
    "test_input = \"\"\"\n",
    "32T3K 765\n",
    "T55J5 684\n",
    "KK677 28\n",
    "KTJJT 220\n",
    "QQQJA 483\n",
    "\"\"\"\n",
    "test_hands = parse_hands(test_input)\n",
    "print(solution(test_hands))\n",
    "print(solution(test_hands, swap_jokers=True))\n"
   ]
  },
  {
   "cell_type": "code",
   "execution_count": 76,
   "metadata": {},
   "outputs": [
    {
     "data": {
      "text/plain": [
       "TestResults(failed=0, attempted=8)"
      ]
     },
     "execution_count": 76,
     "metadata": {},
     "output_type": "execute_result"
    }
   ],
   "source": [
    "doctest.testmod(verbose=False, report=True, exclude_empty=True)\n"
   ]
  },
  {
   "cell_type": "code",
   "execution_count": 77,
   "metadata": {},
   "outputs": [
    {
     "name": "stdout",
     "output_type": "stream",
     "text": [
      "Part 1:  248396258\n",
      "Part 2:  246436046\n",
      "CPU times: user 12.9 ms, sys: 0 ns, total: 12.9 ms\n",
      "Wall time: 14 ms\n"
     ]
    }
   ],
   "source": [
    "\n",
    "%%time\n",
    "# Final answers\n",
    "with open('../data/day07.txt') as f:\n",
    "    hands = parse_hands(f.read())\n",
    "    print('Part 1: ', solution(hands))\n",
    "    print('Part 2: ', solution(hands, swap_jokers=True))\n",
    "\n"
   ]
  },
  {
   "cell_type": "code",
   "execution_count": null,
   "metadata": {},
   "outputs": [],
   "source": []
  }
 ],
 "metadata": {
  "kernelspec": {
   "display_name": ".venv",
   "language": "python",
   "name": "python3"
  },
  "language_info": {
   "codemirror_mode": {
    "name": "ipython",
    "version": 3
   },
   "file_extension": ".py",
   "mimetype": "text/x-python",
   "name": "python",
   "nbconvert_exporter": "python",
   "pygments_lexer": "ipython3",
   "version": "3.9.5"
  }
 },
 "nbformat": 4,
 "nbformat_minor": 2
}
