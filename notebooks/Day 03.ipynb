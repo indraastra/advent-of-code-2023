{
 "cells": [
  {
   "cell_type": "code",
   "execution_count": 79,
   "metadata": {},
   "outputs": [],
   "source": [
    "import doctest\n",
    "import string\n",
    "from collections import defaultdict\n",
    "from dataclasses import dataclass\n",
    "from typing import List, Iterable, Tuple\n",
    "import re\n"
   ]
  },
  {
   "cell_type": "code",
   "execution_count": 88,
   "metadata": {},
   "outputs": [],
   "source": [
    "NUMBER_RE = re.compile(r'(\\d+)')\n",
    "\n",
    "def is_symbolic(c: str):\n",
    "  \"\"\"\n",
    "  >>> is_symbolic('.')\n",
    "  False\n",
    "  >>> is_symbolic('4')\n",
    "  False\n",
    "  >>> is_symbolic('$')\n",
    "  True\n",
    "  >>> is_symbolic('#')\n",
    "  True\n",
    "  \"\"\"\n",
    "  return c != '.' and c not in string.digits\n",
    "\n",
    "\n",
    "@dataclass(frozen=True)\n",
    "class Coord:\n",
    "  x: int\n",
    "  y: int\n",
    "\n",
    "  def __sub__(self, n) -> 'Coord':\n",
    "    return Coord(self.x-n, self.y-n)\n",
    "\n",
    "  def __add__(self, n) -> 'Coord':\n",
    "    return Coord(self.x+n, self.y+n)\n",
    "\n",
    "\n",
    "@dataclass(frozen=True)\n",
    "class Rect:\n",
    "  start: Coord\n",
    "  end: Coord\n",
    "\n",
    "  def expand(self, size: int) -> 'Rect':\n",
    "    return Rect(self.start-size, self.end+size)\n",
    "\n",
    "  def intersects(self, r: 'Rect') -> bool:\n",
    "    start = Coord(max(self.start.x, r.start.x),\n",
    "                  max(self.start.y, r.start.y))\n",
    "    end = Coord(min(self.end.x, r.end.x),\n",
    "                min(self.end.y, r.end.y))\n",
    "    return end.x > start.x and end.y > start.y\n",
    "\n",
    "\n",
    "@dataclass(frozen=True)\n",
    "class PartNumber:\n",
    "  start: Coord\n",
    "  end: Coord\n",
    "  number: int\n",
    "\n",
    "  @classmethod\n",
    "  def find_in(cls, s: str, y: int) -> Iterable['PartNumber']:\n",
    "    \"\"\"\n",
    "    >>> list(PartNumber.find_in('..123...45.6', y=5))\n",
    "    [PartNumber(start=Coord(x=2, y=5), end=Coord(x=5, y=6), number=123),\n",
    "     PartNumber(start=Coord(x=8, y=5), end=Coord(x=10, y=6), number=45),\n",
    "     PartNumber(start=Coord(x=11, y=5), end=Coord(x=12, y=6), number=6)]\n",
    "    \"\"\"\n",
    "    for m in NUMBER_RE.finditer(s):\n",
    "      start = Coord(m.start(), y)\n",
    "      end = Coord(m.end(), y+1)\n",
    "      yield PartNumber(start, end, int(m.group()))\n",
    "    \n",
    "\n",
    "@dataclass(frozen=True)\n",
    "class Symbol:\n",
    "  coord: Coord\n",
    "  symbol: str\n",
    "\n",
    "  def as_rect(self) -> 'Rect':\n",
    "    return Rect(self.coord, self.coord+1)\n",
    "\n",
    "@dataclass\n",
    "class Schematic:\n",
    "  grid: List[List[str]]\n",
    "\n",
    "  @classmethod\n",
    "  def parse_from(cls, grid_str) -> 'Schematic':\n",
    "    return Schematic([l.strip() for l in grid_str.splitlines()])\n",
    "\n",
    "  def symbols(self) -> Iterable[Symbol]:\n",
    "    for y, row in enumerate(self.grid):\n",
    "      for x, c in enumerate(row):\n",
    "        if is_symbolic(c):\n",
    "          yield Symbol(coord=Coord(x, y), symbol=c)\n",
    "  \n",
    "  def part_numbers(self) -> Iterable[Tuple[Symbol, PartNumber]]:\n",
    "    symbols = list(self.symbols())\n",
    "    sym_rects = [s.as_rect().expand(1) for s in symbols]\n",
    "    for y, row in enumerate(self.grid):\n",
    "      for pn in PartNumber.find_in(row, y):\n",
    "        pn_rect = Rect(pn.start, pn.end)\n",
    "        for sym, sym_rect in zip(symbols, sym_rects):\n",
    "          if sym_rect.intersects(pn_rect):\n",
    "            yield sym, pn\n",
    "\n",
    "  def gear_ratio(self, sym: Symbol, pns: Iterable[PartNumber]) -> int:\n",
    "    if sym.symbol != '*' or len(pns) != 2:\n",
    "      return 0\n",
    "    else:\n",
    "      return pns[0].number * pns[1].number\n",
    "  \n",
    "  def gear_ratios(self) -> int:\n",
    "    parts_by_gear = defaultdict(list)\n",
    "    for sym, pn in self.part_numbers():\n",
    "      if sym.symbol == '*':\n",
    "        parts_by_gear[sym].append(pn)\n",
    "    return sum(self.gear_ratio(sym, pns) for (sym, pns) in parts_by_gear.items())\n",
    "      \n",
    "  \n",
    "def solution_1(schematic: Schematic):\n",
    "  return sum(pn.number for (_, pn) in schematic.part_numbers())\n",
    "\n",
    "def solution_2(schematic: Schematic):\n",
    "  return schematic.gear_ratios()\n"
   ]
  },
  {
   "cell_type": "code",
   "execution_count": 89,
   "metadata": {},
   "outputs": [
    {
     "data": {
      "text/plain": [
       "TestResults(failed=0, attempted=5)"
      ]
     },
     "execution_count": 89,
     "metadata": {},
     "output_type": "execute_result"
    }
   ],
   "source": [
    "doctest.testmod(verbose=False, report=True, exclude_empty=True, optionflags=doctest.NORMALIZE_WHITESPACE)\n"
   ]
  },
  {
   "cell_type": "code",
   "execution_count": 90,
   "metadata": {},
   "outputs": [
    {
     "name": "stdout",
     "output_type": "stream",
     "text": [
      "4361\n",
      "467835\n"
     ]
    }
   ],
   "source": [
    "test_input = \"\"\"467..114..\n",
    "...*......\n",
    "..35..633.\n",
    "......#...\n",
    "617*......\n",
    ".....+.58.\n",
    "..592.....\n",
    "......755.\n",
    "...$.*....\n",
    ".664.598..\"\"\"\n",
    "\n",
    "schematic = Schematic.parse_from(test_input)\n",
    "print(solution_1(schematic))\n",
    "print(solution_2(schematic))\n"
   ]
  },
  {
   "cell_type": "code",
   "execution_count": 92,
   "metadata": {},
   "outputs": [
    {
     "name": "stdout",
     "output_type": "stream",
     "text": [
      "Part 1:  540131\n",
      "Part 2:  86879020\n"
     ]
    }
   ],
   "source": [
    "# Final answers\n",
    "with open('../data/day03.txt') as f:\n",
    "    schematic = Schematic.parse_from(f.read().strip())\n",
    "    print('Part 1: ', solution_1(schematic))\n",
    "    print('Part 2: ', solution_2(schematic))\n"
   ]
  },
  {
   "cell_type": "code",
   "execution_count": null,
   "metadata": {},
   "outputs": [],
   "source": []
  }
 ],
 "metadata": {
  "kernelspec": {
   "display_name": ".venv",
   "language": "python",
   "name": "python3"
  },
  "language_info": {
   "codemirror_mode": {
    "name": "ipython",
    "version": 3
   },
   "file_extension": ".py",
   "mimetype": "text/x-python",
   "name": "python",
   "nbconvert_exporter": "python",
   "pygments_lexer": "ipython3",
   "version": "3.8.10"
  }
 },
 "nbformat": 4,
 "nbformat_minor": 2
}
