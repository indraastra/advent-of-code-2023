{
 "cells": [
  {
   "cell_type": "code",
   "execution_count": 105,
   "metadata": {},
   "outputs": [],
   "source": [
    "from __future__ import annotations\n",
    "\n",
    "import doctest\n",
    "from itertools import cycle\n",
    "import math\n"
   ]
  },
  {
   "cell_type": "code",
   "execution_count": 109,
   "metadata": {},
   "outputs": [],
   "source": [
    "INSTRUCTIONS = 'LR'\n",
    "\n",
    "def parse_instructions(s: str):\n",
    "  \"\"\"\n",
    "  >>> parse_instructions('RLR')\n",
    "  [1, 0, 1]\n",
    "  \"\"\"\n",
    "  return [INSTRUCTIONS.index(i) for i in s.strip()]\n",
    "\n",
    "\n",
    "def parse_graph(s: str):\n",
    "  graph = {}\n",
    "  for l in s.strip().splitlines():\n",
    "    src, tgts = l.split(' = ')\n",
    "    tgts = tgts[1:-1].split(', ')\n",
    "    graph[src] = tgts\n",
    "  return graph\n",
    "\n",
    "\n",
    "def parse_puzzle(s: str):\n",
    "  instrs, graph = s.strip().split('\\n\\n')\n",
    "  return parse_instructions(instrs), parse_graph(graph)\n",
    "\n",
    "\n",
    "def num_steps_to(instrs, graph, start='AAA', end='ZZZ') -> int:\n",
    "  cur = start\n",
    "  steps = 0\n",
    "  seen = set()\n",
    "  path = [cur]\n",
    "  for n, dir in cycle(enumerate(instrs)):\n",
    "    move = (n, cur)\n",
    "    if move in seen:\n",
    "      return None, []\n",
    "    seen.add(move)\n",
    "    cur = graph[cur][dir]\n",
    "    path.append(cur)\n",
    "    steps += 1\n",
    "    if cur == end:\n",
    "      return steps, path\n",
    "\n",
    "\n",
    "\n",
    "def solution_1(instrs, graph):\n",
    "  steps, _ = num_steps_to(instrs, graph, 'AAA', 'ZZZ')\n",
    "  return steps\n",
    "\n",
    "\n",
    "def solution_2(instrs, graph):\n",
    "  # Note: this method seems to work for the puzzle input\n",
    "  # but is unlikely to work in general.\n",
    "  # It's also unclear why steps == loop below.\n",
    "  starts = [s for s in graph if s.endswith('A')]\n",
    "  ends = [e for e in graph if e.endswith('Z')]\n",
    "  loops = []\n",
    "  for s in starts:\n",
    "    for e in ends:\n",
    "      steps, path_to_z = num_steps_to(instrs, graph, s, e)\n",
    "      if not steps: continue\n",
    "      loop, cycle_to_z = num_steps_to(instrs, graph, e, e)\n",
    "      print(s, e, steps, loop)\n",
    "      loops.append(loop)\n",
    "  return math.lcm(*loops)\n"
   ]
  },
  {
   "cell_type": "code",
   "execution_count": 113,
   "metadata": {},
   "outputs": [
    {
     "name": "stdout",
     "output_type": "stream",
     "text": [
      "6\n"
     ]
    }
   ],
   "source": [
    "test_input = \"\"\"\n",
    "LLR\n",
    "\n",
    "AAA = (BBB, BBB)\n",
    "BBB = (AAA, ZZZ)\n",
    "ZZZ = (ZZZ, ZZZ)\n",
    "\"\"\"\n",
    "instrs, graph = parse_puzzle(test_input)\n",
    "print(solution_1(instrs, graph))\n"
   ]
  },
  {
   "cell_type": "code",
   "execution_count": 114,
   "metadata": {},
   "outputs": [
    {
     "name": "stdout",
     "output_type": "stream",
     "text": [
      "11A 11Z 2 2\n",
      "22A 22Z 3 3\n",
      "6\n"
     ]
    }
   ],
   "source": [
    "test_input = \"\"\"\n",
    "LR\n",
    "\n",
    "11A = (11B, XXX)\n",
    "11B = (XXX, 11Z)\n",
    "11Z = (11B, XXX)\n",
    "22A = (22B, XXX)\n",
    "22B = (22C, 22C)\n",
    "22C = (22Z, 22Z)\n",
    "22Z = (22B, 22B)\n",
    "XXX = (XXX, XXX)\n",
    "\"\"\"\n",
    "instrs, graph = parse_puzzle(test_input)\n",
    "print(solution_2(instrs, graph))\n"
   ]
  },
  {
   "cell_type": "code",
   "execution_count": 115,
   "metadata": {},
   "outputs": [
    {
     "data": {
      "text/plain": [
       "TestResults(failed=0, attempted=1)"
      ]
     },
     "execution_count": 115,
     "metadata": {},
     "output_type": "execute_result"
    }
   ],
   "source": [
    "doctest.testmod(verbose=False, report=True, exclude_empty=True)\n"
   ]
  },
  {
   "cell_type": "code",
   "execution_count": 116,
   "metadata": {},
   "outputs": [
    {
     "name": "stdout",
     "output_type": "stream",
     "text": [
      "Part 1:  22357\n",
      "GNA DDZ 20093 20093\n",
      "FCA XDZ 12169 12169\n",
      "AAA ZZZ 22357 22357\n",
      "MXA SRZ 14999 14999\n",
      "VVA JVZ 13301 13301\n",
      "XHA THZ 17263 17263\n",
      "Part 2:  10371555451871\n",
      "CPU times: user 259 ms, sys: 9.26 ms, total: 269 ms\n",
      "Wall time: 289 ms\n"
     ]
    }
   ],
   "source": [
    "%%time\n",
    "# Final answers\n",
    "with open('../data/day08.txt') as f:\n",
    "    instrs, graph = parse_puzzle(f.read())\n",
    "    print('Part 1: ', solution_1(instrs, graph))\n",
    "    print('Part 2: ', solution_2(instrs, graph))\n",
    "\n"
   ]
  },
  {
   "cell_type": "code",
   "execution_count": null,
   "metadata": {},
   "outputs": [],
   "source": []
  }
 ],
 "metadata": {
  "kernelspec": {
   "display_name": ".venv",
   "language": "python",
   "name": "python3"
  },
  "language_info": {
   "codemirror_mode": {
    "name": "ipython",
    "version": 3
   },
   "file_extension": ".py",
   "mimetype": "text/x-python",
   "name": "python",
   "nbconvert_exporter": "python",
   "pygments_lexer": "ipython3",
   "version": "3.9.5"
  }
 },
 "nbformat": 4,
 "nbformat_minor": 2
}
