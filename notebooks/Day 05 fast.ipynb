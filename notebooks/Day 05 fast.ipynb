{
 "cells": [
  {
   "cell_type": "code",
   "execution_count": 1,
   "metadata": {},
   "outputs": [],
   "source": [
    "from __future__ import annotations\n",
    "\n",
    "from bisect import bisect\n",
    "from dataclasses import dataclass, field\n",
    "import doctest\n",
    "from functools import reduce\n",
    "import tqdm\n",
    "\n",
    "from utilities import extract_ints\n"
   ]
  },
  {
   "cell_type": "code",
   "execution_count": 2,
   "metadata": {},
   "outputs": [],
   "source": [
    "@dataclass(frozen=True)\n",
    "class Range:\n",
    "  dst: int\n",
    "  src: int\n",
    "  length: int\n",
    "\n",
    "  @classmethod\n",
    "  def parse_from(cls, l: str) -> 'Range':\n",
    "    \"\"\"\n",
    "    >>> Range.parse_from('50 98 2')\n",
    "    Range(dst=50, src=98, length=2)\n",
    "    \"\"\"\n",
    "    src, dst, length = [int(c) for c in l.strip().split()]\n",
    "    return Range(src, dst, length)\n",
    "  \n",
    "  def map(self, src: int) -> int:\n",
    "    \"\"\"\n",
    "    >>> r = Range(dst=50, src=98, length=2)\n",
    "    >>> r.map(98)\n",
    "    50\n",
    "    >>> r.map(99)\n",
    "    51\n",
    "    >>> r.map(52)\n",
    "    52\n",
    "    >>> r.map(8)\n",
    "    8\n",
    "    \"\"\"\n",
    "    if self.contains(src):\n",
    "      return self.dst + (src - self.src)\n",
    "    else:\n",
    "      return src\n",
    "\n",
    "  def contains(self, src: int) -> bool:\n",
    "    return self.src <= src < (self.src + self.length)\n",
    "\n",
    "  def map_interval(self, interval):\n",
    "    start = self.src\n",
    "    end = self.src + self.length\n",
    "    overlap_start = max(interval.start, start)\n",
    "    overlap_end = min(interval.stop, end) - 1\n",
    "    return (\n",
    "      range(interval.start, min(interval.stop, start)) or None,\n",
    "      range(self.map(overlap_start), self.map(overlap_end) + 1) if overlap_start < overlap_end else None,\n",
    "      range(max(interval.start, end), interval.stop) or None\n",
    "    )\n",
    "\n",
    "@dataclass\n",
    "class RangeMap:\n",
    "  ranges: list[Range]\n",
    "  srcs: list[int] = field(init=False)\n",
    "\n",
    "  def __post_init__(self):\n",
    "    self.ranges.sort(key=lambda r: r.src)\n",
    "    self.srcs = [r.src for r in self.ranges]\n",
    "\n",
    "  @classmethod\n",
    "  def parse_from(cls, txt: str) -> RangeMap:\n",
    "    \"\"\"\n",
    "    >>> RangeMap.parse_from('soil-to-seed map:\\\\n50 98 2\\\\n52 50 48')\n",
    "    RangeMap(ranges=[Range(dst=52, src=50, length=48), Range(dst=50, src=98, length=2)], srcs=[50, 98])\n",
    "    \"\"\"\n",
    "    return RangeMap(ranges=[Range.parse_from(l) for l in txt.strip().splitlines()[1:]])\n",
    "    \n",
    "  def map(self, src: int) -> int:\n",
    "    \"\"\"\n",
    "    >>> rm = RangeMap([Range(dst=50, src=98, length=2), Range(dst=52, src=50, length=48)])\n",
    "    >>> rm.map(79)\n",
    "    81\n",
    "    >>> rm.map(14)\n",
    "    14\n",
    "    >>> rm.map(55)\n",
    "    57\n",
    "    >>> rm.map(50)\n",
    "    52\n",
    "    >>> rm = RangeMap([Range(0, 15, 37), Range(37, 52, 2), Range(39, 0, 15)])\n",
    "    >>> rm.map(14)\n",
    "    53\n",
    "    >>> rm.map(81)\n",
    "    81\n",
    "    \"\"\"\n",
    "    if (i := bisect(self.srcs, src)):\n",
    "      return self.ranges[i-1].map(src)\n",
    "    else:\n",
    "      return src\n",
    "    \n",
    "  def map_interval(self, interval):\n",
    "    start = max(0, bisect(self.srcs, interval.start) - 1)\n",
    "    end = bisect(self.srcs, interval.stop)\n",
    "    splits = []\n",
    "    for r in self.ranges[start:end]:\n",
    "      left, middle, rest = r.map_interval(interval)\n",
    "      if left: splits.append(left)\n",
    "      if middle: splits.append(middle)\n",
    "      interval = rest\n",
    "    if interval: splits.append(interval)\n",
    "    return splits\n",
    "\n",
    "def parse_puzzle(txt: str):\n",
    "  sections = txt.split('\\n\\n')\n",
    "  seeds = extract_ints(sections[0])\n",
    "  range_maps = [RangeMap.parse_from(s) for s in sections[1:]]\n",
    "  return seeds, range_maps\n",
    "\n",
    "\n",
    "def solution_1(seeds: list[int], range_maps: list[RangeMap]) -> int:\n",
    "  apply_map = lambda src, rm: rm.map(src)\n",
    "  apply_maps = lambda maps, src: reduce(apply_map, maps, src)\n",
    "  return min(apply_maps(range_maps, s) for s in seeds)\n",
    "\n",
    "\n",
    "def solution_2(seeds: list[int], range_maps: list[RangeMap]) -> int:\n",
    "  seed_intervals = {range(seeds[i], seeds[i]+seeds[i+1]) for i in range(0, len(seeds), 2)}\n",
    "  for rm in tqdm.tqdm(range_maps):\n",
    "    new_intervals = set()\n",
    "    for s in seed_intervals:\n",
    "      new_intervals.update(rm.map_interval(s))\n",
    "    seed_intervals = new_intervals\n",
    "  return min(s.start for s in seed_intervals)\n"
   ]
  },
  {
   "cell_type": "code",
   "execution_count": 4,
   "metadata": {},
   "outputs": [
    {
     "name": "stdout",
     "output_type": "stream",
     "text": [
      "Part 1:  340994526\n"
     ]
    },
    {
     "name": "stderr",
     "output_type": "stream",
     "text": [
      "100%|██████████| 7/7 [00:00<00:00, 2503.64it/s]"
     ]
    },
    {
     "name": "stdout",
     "output_type": "stream",
     "text": [
      "Part 2:  52210644\n",
      "CPU times: user 18 ms, sys: 0 ns, total: 18 ms\n",
      "Wall time: 18.3 ms\n"
     ]
    },
    {
     "name": "stderr",
     "output_type": "stream",
     "text": [
      "\n"
     ]
    }
   ],
   "source": [
    "%%time\n",
    "# Final answers\n",
    "with open('../data/day05.txt') as f:\n",
    "    sections = f.read().split('\\n\\n')\n",
    "    seeds = extract_ints(sections[0])\n",
    "    range_maps = [RangeMap.parse_from(s) for s in sections[1:]]\n",
    "    print('Part 1: ', solution_1(seeds, range_maps))\n",
    "    print('Part 2: ', solution_2(seeds, range_maps))\n"
   ]
  }
 ],
 "metadata": {
  "kernelspec": {
   "display_name": ".venv",
   "language": "python",
   "name": "python3"
  },
  "language_info": {
   "codemirror_mode": {
    "name": "ipython",
    "version": 3
   },
   "file_extension": ".py",
   "mimetype": "text/x-python",
   "name": "python",
   "nbconvert_exporter": "python",
   "pygments_lexer": "ipython3",
   "version": "3.9.5"
  }
 },
 "nbformat": 4,
 "nbformat_minor": 2
}
