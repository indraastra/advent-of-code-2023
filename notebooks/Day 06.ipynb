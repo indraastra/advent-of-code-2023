{
 "cells": [
  {
   "cell_type": "code",
   "execution_count": 1,
   "metadata": {},
   "outputs": [],
   "source": [
    "from __future__ import annotations\n",
    "\n",
    "from dataclasses import dataclass, field\n",
    "import doctest\n",
    "import math\n",
    "\n",
    "from utilities import extract_ints, product_ints\n"
   ]
  },
  {
   "cell_type": "code",
   "execution_count": 6,
   "metadata": {},
   "outputs": [],
   "source": [
    "def parse_puzzle_1(s: str):\n",
    "  times, distances = s.strip().splitlines()\n",
    "  return extract_ints(times), extract_ints(distances)\n",
    "\n",
    "\n",
    "def parse_puzzle_2(s: str):\n",
    "  return parse_puzzle_1(s.replace(' ', ''))\n",
    "\n",
    "\n",
    "def num_ways_to_win(t: int, d: int) -> int:\n",
    "  \"\"\"\n",
    "  >>> num_ways_to_win(7, 9)\n",
    "  4\n",
    "  >>> num_ways_to_win(15, 40)\n",
    "  8\n",
    "  >>> num_ways_to_win(30, 200)\n",
    "  9\n",
    "  \"\"\"\n",
    "  delta = math.sqrt(t**2 - 4*d) \n",
    "  hi = (t + delta) / 2\n",
    "  lo = (t - delta) / 2\n",
    "  return int(math.ceil(hi - 1) - math.floor(lo + 1)) + 1\n",
    "\n",
    "\n",
    "def solution(times, distances):\n",
    "  return product_ints(num_ways_to_win(t, d)\n",
    "                      for (t, d) in zip(times, distances))\n"
   ]
  },
  {
   "cell_type": "code",
   "execution_count": 9,
   "metadata": {},
   "outputs": [
    {
     "name": "stdout",
     "output_type": "stream",
     "text": [
      "288\n",
      "71503\n"
     ]
    }
   ],
   "source": [
    "test_input = \"\"\"\n",
    "Time:      7  15   30\n",
    "Distance:  9  40  200\n",
    "\"\"\"\n",
    "print(solution(*parse_puzzle_1(test_input)))\n",
    "print(solution(*parse_puzzle_2(test_input)))\n"
   ]
  },
  {
   "cell_type": "code",
   "execution_count": 6,
   "metadata": {},
   "outputs": [
    {
     "data": {
      "text/plain": [
       "TestResults(failed=0, attempted=3)"
      ]
     },
     "execution_count": 6,
     "metadata": {},
     "output_type": "execute_result"
    }
   ],
   "source": [
    "doctest.testmod(verbose=False, report=True, exclude_empty=True)\n"
   ]
  },
  {
   "cell_type": "code",
   "execution_count": 10,
   "metadata": {},
   "outputs": [
    {
     "name": "stdout",
     "output_type": "stream",
     "text": [
      "Part 1:  440000\n",
      "Part 2:  26187338\n",
      "CPU times: user 829 µs, sys: 203 µs, total: 1.03 ms\n",
      "Wall time: 968 µs\n"
     ]
    }
   ],
   "source": [
    "%%time\n",
    "# Final answers\n",
    "with open('../data/day06.txt') as f:\n",
    "    puzzle = f.read()\n",
    "    print('Part 1: ', solution(*parse_puzzle_1(puzzle)))\n",
    "    print('Part 2: ', solution(*parse_puzzle_2(puzzle)))\n"
   ]
  },
  {
   "cell_type": "code",
   "execution_count": null,
   "metadata": {},
   "outputs": [],
   "source": []
  }
 ],
 "metadata": {
  "kernelspec": {
   "display_name": ".venv",
   "language": "python",
   "name": "python3"
  },
  "language_info": {
   "codemirror_mode": {
    "name": "ipython",
    "version": 3
   },
   "file_extension": ".py",
   "mimetype": "text/x-python",
   "name": "python",
   "nbconvert_exporter": "python",
   "pygments_lexer": "ipython3",
   "version": "3.9.5"
  }
 },
 "nbformat": 4,
 "nbformat_minor": 2
}
