{
 "cells": [
  {
   "cell_type": "code",
   "execution_count": 1,
   "metadata": {},
   "outputs": [],
   "source": [
    "from __future__ import annotations\n",
    "\n",
    "from dataclasses import dataclass\n",
    "import doctest\n",
    "import re\n",
    "import numpy as np\n"
   ]
  },
  {
   "cell_type": "code",
   "execution_count": 28,
   "metadata": {},
   "outputs": [],
   "source": [
    "def extract_ints(s):\n",
    "  \"\"\"\n",
    "  >>> extract_ints('')\n",
    "  []\n",
    "  >>> extract_ints('83 86  6 31 17  9 48 53')\n",
    "  [83, 86, 6, 31, 17, 9, 48, 53]\n",
    "  \"\"\"\n",
    "  return [int(n) for n in s.strip().split()]\n",
    "\n",
    "@dataclass\n",
    "class Card:\n",
    "  num: int\n",
    "  winning: list[int]\n",
    "  yours: list[int]\n",
    "\n",
    "  CARD_RE = re.compile(r'Card +(?P<num>\\d+): +(?P<winning>(?:\\d+ *)+) \\| +(?P<yours>(?:\\d+ *)+)')\n",
    "  \n",
    "  @classmethod\n",
    "  def parse(cls, card_str: str) -> 'Card':\n",
    "    \"\"\"\n",
    "    >>> Card.parse('Card 1: 41 48 83 86 17 | 83 86  6 31 17  9 48 53')\n",
    "    Card(num=1, winning=[41, 48, 83, 86, 17], yours=[83, 86, 6, 31, 17, 9, 48, 53])\n",
    "    \"\"\"\n",
    "    num, winning, yours = cls.CARD_RE.match(card_str).groups()\n",
    "    num = int(num)\n",
    "    winning = [int(c) for c in winning.strip().split()]\n",
    "    yours = [int(c) for c in yours.strip().split()]\n",
    "    return Card(num, winning, yours)\n",
    "  \n",
    "  def num_winning(self) -> int:\n",
    "    return len(set(self.winning) & set(self.yours))\n",
    "\n",
    "  def points(self) -> int:\n",
    "    \"\"\"\n",
    "    >>> Card.parse('Card 1: 41 48 83 86 17 | 83 86  6 31 17  9 48 53').points()\n",
    "    8\n",
    "    >>> Card.parse('Card 5: 87 83 26 28 32 | 88 30 70 12 93 22 82 36').points()\n",
    "    0\n",
    "    \"\"\"\n",
    "    wins = self.num_winning()\n",
    "    return 2 ** (wins - 1) if wins > 0 else 0\n",
    "\n",
    "def solution_1(cards: list[Card]) -> int:\n",
    "  return sum(c.points() for c in cards)\n",
    "\n",
    "def solution_2(cards: list[Card]) -> int:\n",
    "  num_cards = np.ones_like(cards)\n",
    "  for c in cards:\n",
    "    num_cards[c.num:c.num+c.num_winning()] += num_cards[c.num-1]\n",
    "  return num_cards.sum()\n",
    "  "
   ]
  },
  {
   "cell_type": "code",
   "execution_count": 29,
   "metadata": {},
   "outputs": [
    {
     "name": "stdout",
     "output_type": "stream",
     "text": [
      "13\n",
      "30\n"
     ]
    }
   ],
   "source": [
    "test_case = \"\"\"Card 1: 41 48 83 86 17 | 83 86  6 31 17  9 48 53\n",
    "Card 2: 13 32 20 16 61 | 61 30 68 82 17 32 24 19\n",
    "Card 3:  1 21 53 59 44 | 69 82 63 72 16 21 14  1\n",
    "Card 4: 41 92 73 84 69 | 59 84 76 51 58  5 54 83\n",
    "Card 5: 87 83 26 28 32 | 88 30 70 12 93 22 82 36\n",
    "Card 6: 31 18 13 56 72 | 74 77 10 23 35 67 36 11\"\"\"\n",
    "\n",
    "test_cards = [Card.parse(l) for l in test_case.splitlines()]\n",
    "print(solution_1(test_cards))\n",
    "print(solution_2(test_cards))\n"
   ]
  },
  {
   "cell_type": "code",
   "execution_count": 30,
   "metadata": {},
   "outputs": [
    {
     "data": {
      "text/plain": [
       "TestResults(failed=0, attempted=5)"
      ]
     },
     "execution_count": 30,
     "metadata": {},
     "output_type": "execute_result"
    }
   ],
   "source": [
    "doctest.testmod(verbose=False, report=True, exclude_empty=True)\n"
   ]
  },
  {
   "cell_type": "code",
   "execution_count": 32,
   "metadata": {},
   "outputs": [
    {
     "name": "stdout",
     "output_type": "stream",
     "text": [
      "Part 1:  24542\n",
      "Part 2:  8736438\n"
     ]
    }
   ],
   "source": [
    "# Final answers\n",
    "with open('../data/day04.txt') as f:\n",
    "    cards = [Card.parse(l) for l in f.read().splitlines()]\n",
    "    print('Part 1: ', solution_1(cards))\n",
    "    print('Part 2: ', solution_2(cards))\n"
   ]
  },
  {
   "cell_type": "code",
   "execution_count": null,
   "metadata": {},
   "outputs": [],
   "source": []
  }
 ],
 "metadata": {
  "kernelspec": {
   "display_name": ".venv",
   "language": "python",
   "name": "python3"
  },
  "language_info": {
   "codemirror_mode": {
    "name": "ipython",
    "version": 3
   },
   "file_extension": ".py",
   "mimetype": "text/x-python",
   "name": "python",
   "nbconvert_exporter": "python",
   "pygments_lexer": "ipython3",
   "version": "3.9.5"
  }
 },
 "nbformat": 4,
 "nbformat_minor": 2
}
