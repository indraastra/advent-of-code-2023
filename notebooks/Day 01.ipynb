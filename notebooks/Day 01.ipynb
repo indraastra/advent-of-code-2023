{
  "nbformat": 4,
  "nbformat_minor": 0,
  "metadata": {
    "colab": {
      "provenance": []
    },
    "kernelspec": {
      "name": "python3",
      "display_name": "Python 3"
    },
    "language_info": {
      "name": "python"
    }
  },
  "cells": [
    {
      "cell_type": "code",
      "execution_count": null,
      "metadata": {
        "id": "LJsA1EsUoSRs"
      },
      "outputs": [],
      "source": [
        "import string\n",
        "\n",
        "test_input = \"\"\"1abc2\n",
        "pqr3stu8vwx\n",
        "a1b2c3d4e5f\n",
        "treb7uchet\"\"\"\n",
        "\n",
        "test_input2 = \"\"\"two1nine\n",
        "eightwothree\n",
        "abcone2threexyz\n",
        "xtwone3four\n",
        "4nineeightseven2\n",
        "zoneight234\n",
        "7pqrstsixteen\"\"\"\n",
        "\n",
        "DIGITS = {}\n",
        "DIGITS_NUMERIC = [str(i) for i in range(1, 10)]\n",
        "DIGITS_SPELLED = ['one', 'two', 'three', 'four', 'five', 'six', 'seven', 'eight', 'nine']\n",
        "for group in (DIGITS_NUMERIC, DIGITS_SPELLED):\n",
        "  DIGITS.update({d: str(i+1) for (i, d) in enumerate(group)})\n",
        "\n",
        "def calibration_fn1(l):\n",
        "  ds = [c for c in l if c in string.digits]\n",
        "  return int(ds[0] + ds[-1])\n",
        "\n",
        "def calibration_fn2(l):\n",
        "  ds = []\n",
        "  while l:\n",
        "    for digit, val in DIGITS.items():\n",
        "      if l.startswith(digit):\n",
        "        ds.append(val)\n",
        "        break\n",
        "    l = l[1:]\n",
        "\n",
        "  return int(ds[0] + ds[-1])\n",
        "\n",
        "def total_calibration_value(s, calibration_fn=calibration_fn1):\n",
        "  return sum(calibration_fn(l) for l in s.splitlines())"
      ]
    },
    {
      "cell_type": "code",
      "source": [
        "total_calibration_value(test_input, calibration_fn1)"
      ],
      "metadata": {
        "colab": {
          "base_uri": "https://localhost:8080/"
        },
        "id": "M0w5PrnYALqj",
        "outputId": "e2fdd6f9-d3f2-4be9-9c6b-38af9bddeb5d"
      },
      "execution_count": null,
      "outputs": [
        {
          "output_type": "execute_result",
          "data": {
            "text/plain": [
              "142"
            ]
          },
          "metadata": {},
          "execution_count": 108
        }
      ]
    },
    {
      "cell_type": "code",
      "source": [
        "total_calibration_value(test_input2, calibration_fn2)"
      ],
      "metadata": {
        "colab": {
          "base_uri": "https://localhost:8080/"
        },
        "id": "j9ihnPOfFsox",
        "outputId": "2ad8024a-2ae3-40d4-c45a-edfa59f5c7ab"
      },
      "execution_count": null,
      "outputs": [
        {
          "output_type": "execute_result",
          "data": {
            "text/plain": [
              "281"
            ]
          },
          "metadata": {},
          "execution_count": 109
        }
      ]
    },
    {
      "cell_type": "code",
      "source": [
        "with open('day1.txt', 'rt') as input:\n",
        "  day1 = input.read()\n",
        "  print('Part 1:', total_calibration_value(day1))\n",
        "  print('Part 2:', total_calibration_value(day1, calibration_fn2))"
      ],
      "metadata": {
        "colab": {
          "base_uri": "https://localhost:8080/"
        },
        "id": "C89P8Y7GAZyF",
        "outputId": "4ed22f30-13da-4c5c-90c1-1c6392260810"
      },
      "execution_count": null,
      "outputs": [
        {
          "output_type": "stream",
          "name": "stdout",
          "text": [
            "Part 1: 54632\n",
            "Part 2: 54019\n"
          ]
        }
      ]
    },
    {
      "cell_type": "code",
      "source": [],
      "metadata": {
        "id": "TKzV0OEAAg9D"
      },
      "execution_count": null,
      "outputs": []
    }
  ]
}